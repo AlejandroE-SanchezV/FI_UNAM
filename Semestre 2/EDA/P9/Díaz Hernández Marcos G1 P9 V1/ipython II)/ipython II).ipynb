{
 "cells": [
  {
   "cell_type": "code",
   "execution_count": 1,
   "metadata": {},
   "outputs": [],
   "source": [
    "def MillasAKilometros(x,y):\n",
    "    if y=='M':\n",
    "        x=x*1.6093\n",
    "        print(\"Valor en Kilometros: {}\".format(x))\n",
    "    elif y=='K':\n",
    "        x=x*0.6213\n",
    "        print(\"Valor en Millas: {}\".format(x))"
   ]
  },
  {
   "cell_type": "code",
   "execution_count": 2,
   "metadata": {},
   "outputs": [
    {
     "name": "stdout",
     "output_type": "stream",
     "text": [
      "Las opciones son: 1)Millas a Kilometros = insertar M  2)Kilometros a Millas insertar = K\n",
      "Inserta la opcion:M\n",
      "Inserta el valor:12\n",
      "Valor en Kilometros: 19.3116\n"
     ]
    }
   ],
   "source": [
    "print(\"Las opciones son: 1)Millas a Kilometros = insertar M  2)Kilometros a Millas insertar = K\")\n",
    "b=input(\"Inserta la opcion:\") #Inserta caracter\n",
    "a=float(input(\"Inserta el valor:\"))\n",
    "MillasAKilometros(a,b)"
   ]
  },
  {
   "cell_type": "code",
   "execution_count": 3,
   "metadata": {},
   "outputs": [],
   "source": [
    "def CentAFah(x,y):\n",
    "    if y=='C':\n",
    "        x=(9*x/5)+32\n",
    "        print(\"Valor en Fahrenheit: {}\".format(x))\n",
    "    elif y=='F':\n",
    "        x=(x-32)*5/9\n",
    "        print(\"Valor en Centigrados: {}\".format(x))"
   ]
  },
  {
   "cell_type": "code",
   "execution_count": 4,
   "metadata": {},
   "outputs": [
    {
     "name": "stdout",
     "output_type": "stream",
     "text": [
      "Las opciones son: 1)Centigrados a Fahrenheit, insertar C  2)Fahrenheit a Centigrados, insertar F\n",
      "Inserta la opcion:F\n",
      "Inserta el valor:32\n",
      "Valor en Centigrados: 0.0\n"
     ]
    }
   ],
   "source": [
    "print(\"Las opciones son: 1)Centigrados a Fahrenheit, insertar C  2)Fahrenheit a Centigrados, insertar F\")\n",
    "b=input(\"Inserta la opcion:\") #Inserta caracter\n",
    "a=float(input(\"Inserta el valor:\"))\n",
    "CentAFah(a,b)"
   ]
  }
 ],
 "metadata": {
  "kernelspec": {
   "display_name": "Python 3",
   "language": "python",
   "name": "python3"
  },
  "language_info": {
   "codemirror_mode": {
    "name": "ipython",
    "version": 3
   },
   "file_extension": ".py",
   "mimetype": "text/x-python",
   "name": "python",
   "nbconvert_exporter": "python",
   "pygments_lexer": "ipython3",
   "version": "3.7.6"
  }
 },
 "nbformat": 4,
 "nbformat_minor": 4
}
